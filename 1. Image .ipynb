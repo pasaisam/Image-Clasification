{
 "cells": [
  {
   "cell_type": "markdown",
   "metadata": {},
   "source": [
    "# 1. Import Dependencies"
   ]
  },
  {
   "cell_type": "code",
   "execution_count": 1,
   "metadata": {},
   "outputs": [
    {
     "name": "stdout",
     "output_type": "stream",
     "text": [
      "Requirement already satisfied: opencv-python in c:\\users\\izul\\webcam object detection\\tfodcourse\\tfod\\lib\\site-packages (4.8.0.76)\n",
      "Requirement already satisfied: numpy>=1.21.2 in c:\\users\\izul\\webcam object detection\\tfodcourse\\tfod\\lib\\site-packages (from opencv-python) (1.24.3)\n"
     ]
    },
    {
     "name": "stderr",
     "output_type": "stream",
     "text": [
      "DEPRECATION: Loading egg at c:\\users\\izul\\webcam object detection\\tfodcourse\\tfod\\lib\\site-packages\\apache_beam-2.50.0-py3.11-win-amd64.egg is deprecated. pip 23.3 will enforce this behaviour change. A possible replacement is to use pip for package installation..\n",
      "DEPRECATION: Loading egg at c:\\users\\izul\\webcam object detection\\tfodcourse\\tfod\\lib\\site-packages\\avro_python3-1.10.2-py3.11.egg is deprecated. pip 23.3 will enforce this behaviour change. A possible replacement is to use pip for package installation..\n",
      "DEPRECATION: Loading egg at c:\\users\\izul\\webcam object detection\\tfodcourse\\tfod\\lib\\site-packages\\contextlib2-21.6.0-py3.11.egg is deprecated. pip 23.3 will enforce this behaviour change. A possible replacement is to use pip for package installation..\n",
      "DEPRECATION: Loading egg at c:\\users\\izul\\webcam object detection\\tfodcourse\\tfod\\lib\\site-packages\\cython-3.0.2-py3.11-win-amd64.egg is deprecated. pip 23.3 will enforce this behaviour change. A possible replacement is to use pip for package installation..\n",
      "DEPRECATION: Loading egg at c:\\users\\izul\\webcam object detection\\tfodcourse\\tfod\\lib\\site-packages\\lvis-0.5.3-py3.11.egg is deprecated. pip 23.3 will enforce this behaviour change. A possible replacement is to use pip for package installation..\n",
      "DEPRECATION: Loading egg at c:\\users\\izul\\webcam object detection\\tfodcourse\\tfod\\lib\\site-packages\\object_detection-0.1-py3.11.egg is deprecated. pip 23.3 will enforce this behaviour change. A possible replacement is to use pip for package installation..\n",
      "DEPRECATION: Loading egg at c:\\users\\izul\\webcam object detection\\tfodcourse\\tfod\\lib\\site-packages\\pandas-2.1.0-py3.11-win-amd64.egg is deprecated. pip 23.3 will enforce this behaviour change. A possible replacement is to use pip for package installation..\n",
      "DEPRECATION: Loading egg at c:\\users\\izul\\webcam object detection\\tfodcourse\\tfod\\lib\\site-packages\\pillow-10.0.0-py3.11-win-amd64.egg is deprecated. pip 23.3 will enforce this behaviour change. A possible replacement is to use pip for package installation..\n",
      "DEPRECATION: Loading egg at c:\\users\\izul\\webcam object detection\\tfodcourse\\tfod\\lib\\site-packages\\portalocker-2.7.0-py3.11.egg is deprecated. pip 23.3 will enforce this behaviour change. A possible replacement is to use pip for package installation..\n",
      "DEPRECATION: Loading egg at c:\\users\\izul\\webcam object detection\\tfodcourse\\tfod\\lib\\site-packages\\pycocotools-2.0.7-py3.11-win-amd64.egg is deprecated. pip 23.3 will enforce this behaviour change. A possible replacement is to use pip for package installation..\n",
      "DEPRECATION: Loading egg at c:\\users\\izul\\webcam object detection\\tfodcourse\\tfod\\lib\\site-packages\\pyparsing-2.4.7-py3.11.egg is deprecated. pip 23.3 will enforce this behaviour change. A possible replacement is to use pip for package installation..\n",
      "DEPRECATION: Loading egg at c:\\users\\izul\\webcam object detection\\tfodcourse\\tfod\\lib\\site-packages\\regex-2023.8.8-py3.11-win-amd64.egg is deprecated. pip 23.3 will enforce this behaviour change. A possible replacement is to use pip for package installation..\n",
      "DEPRECATION: Loading egg at c:\\users\\izul\\webcam object detection\\tfodcourse\\tfod\\lib\\site-packages\\sacrebleu-2.2.0-py3.11.egg is deprecated. pip 23.3 will enforce this behaviour change. A possible replacement is to use pip for package installation..\n",
      "DEPRECATION: Loading egg at c:\\users\\izul\\webcam object detection\\tfodcourse\\tfod\\lib\\site-packages\\scipy-1.11.2-py3.11-win-amd64.egg is deprecated. pip 23.3 will enforce this behaviour change. A possible replacement is to use pip for package installation..\n",
      "DEPRECATION: Loading egg at c:\\users\\izul\\webcam object detection\\tfodcourse\\tfod\\lib\\site-packages\\tabulate-0.9.0-py3.11.egg is deprecated. pip 23.3 will enforce this behaviour change. A possible replacement is to use pip for package installation..\n",
      "DEPRECATION: Loading egg at c:\\users\\izul\\webcam object detection\\tfodcourse\\tfod\\lib\\site-packages\\tensorflow-2.13.0-py3.11-win-amd64.egg is deprecated. pip 23.3 will enforce this behaviour change. A possible replacement is to use pip for package installation..\n",
      "DEPRECATION: Loading egg at c:\\users\\izul\\webcam object detection\\tfodcourse\\tfod\\lib\\site-packages\\tensorflow_io-0.31.0-py3.11-win-amd64.egg is deprecated. pip 23.3 will enforce this behaviour change. A possible replacement is to use pip for package installation..\n",
      "DEPRECATION: Loading egg at c:\\users\\izul\\webcam object detection\\tfodcourse\\tfod\\lib\\site-packages\\tensorflow_io_gcs_filesystem-0.31.0-py3.11-win-amd64.egg is deprecated. pip 23.3 will enforce this behaviour change. A possible replacement is to use pip for package installation..\n",
      "DEPRECATION: Loading egg at c:\\users\\izul\\webcam object detection\\tfodcourse\\tfod\\lib\\site-packages\\tf_models_official-2.13.1-py3.11.egg is deprecated. pip 23.3 will enforce this behaviour change. A possible replacement is to use pip for package installation..\n",
      "DEPRECATION: Loading egg at c:\\users\\izul\\webcam object detection\\tfodcourse\\tfod\\lib\\site-packages\\tf_slim-1.1.0-py3.11.egg is deprecated. pip 23.3 will enforce this behaviour change. A possible replacement is to use pip for package installation..\n"
     ]
    }
   ],
   "source": [
    "!pip install opencv-python"
   ]
  },
  {
   "cell_type": "code",
   "execution_count": 2,
   "metadata": {},
   "outputs": [],
   "source": [
    "# Import opencv\n",
    "import cv2 \n",
    "\n",
    "# Import uuid\n",
    "import uuid\n",
    "\n",
    "# Import Operating System\n",
    "import os\n",
    "\n",
    "# Import time\n",
    "import time"
   ]
  },
  {
   "cell_type": "markdown",
   "metadata": {},
   "source": [
    "# 2. Define Images to Collect"
   ]
  },
  {
   "cell_type": "code",
   "execution_count": 3,
   "metadata": {},
   "outputs": [],
   "source": [
    "labels = ['matang_bagus', 'matang_jelek', 'matang_super_bagus', 'mentah_bagus', 'mentah_jelek']\n",
    "number_imgs = 5"
   ]
  },
  {
   "cell_type": "code",
   "execution_count": 4,
   "metadata": {},
   "outputs": [
    {
     "data": {
      "text/plain": [
       "5"
      ]
     },
     "execution_count": 4,
     "metadata": {},
     "output_type": "execute_result"
    }
   ],
   "source": [
    "number_imgs"
   ]
  },
  {
   "cell_type": "markdown",
   "metadata": {},
   "source": [
    "# 3. Setup Folders "
   ]
  },
  {
   "cell_type": "code",
   "execution_count": 6,
   "metadata": {},
   "outputs": [],
   "source": [
    "IMAGES_PATH = os.path.join('Tensorflow', 'workspace', 'images', 'collectedimages')"
   ]
  },
  {
   "cell_type": "code",
   "execution_count": 7,
   "metadata": {},
   "outputs": [
    {
     "name": "stdout",
     "output_type": "stream",
     "text": [
      "Tensorflow\\workspace\\images\\collectedimages\n"
     ]
    }
   ],
   "source": [
    "print(IMAGES_PATH)"
   ]
  },
  {
   "cell_type": "code",
   "execution_count": 8,
   "metadata": {},
   "outputs": [
    {
     "data": {
      "text/plain": [
       "'nt'"
      ]
     },
     "execution_count": 8,
     "metadata": {},
     "output_type": "execute_result"
    }
   ],
   "source": [
    "os.name"
   ]
  },
  {
   "cell_type": "code",
   "execution_count": 9,
   "metadata": {},
   "outputs": [],
   "source": [
    "if not os.path.exists(IMAGES_PATH):\n",
    "    if os.name == 'posix':\n",
    "        !mkdir -p {IMAGES_PATH}\n",
    "    if os.name == 'nt':\n",
    "         !mkdir {IMAGES_PATH}\n",
    "for label in labels:\n",
    "    path = os.path.join(IMAGES_PATH, label)\n",
    "    if not os.path.exists(path):\n",
    "        !mkdir {path}"
   ]
  },
  {
   "cell_type": "markdown",
   "metadata": {},
   "source": [
    "# 4. Capture Images"
   ]
  },
  {
   "cell_type": "code",
   "execution_count": 18,
   "metadata": {},
   "outputs": [
    {
     "name": "stdout",
     "output_type": "stream",
     "text": [
      "Collecting images for thumbsup\n",
      "Collecting image 0\n",
      "Collecting image 1\n",
      "Collecting image 2\n",
      "Collecting image 3\n",
      "Collecting image 4\n"
     ]
    }
   ],
   "source": [
    "for label in labels:\n",
    "    cap = cv2.VideoCapture(0)\n",
    "    print('Collecting images for {}'.format(label))\n",
    "    time.sleep(5)\n",
    "    for imgnum in range(number_imgs):\n",
    "        print('Collecting image {}'.format(imgnum))\n",
    "        ret, frame = cap.read()\n",
    "        imgname = os.path.join(IMAGES_PATH,label,label+'.'+'{}.jpg'.format(str(uuid.uuid1())))\n",
    "        cv2.imwrite(imgname, frame)\n",
    "        cv2.imshow('frame', frame)\n",
    "        time.sleep(2)\n",
    "\n",
    "        if cv2.waitKey(1) & 0xFF == ord('q'):\n",
    "            break\n",
    "cap.release()\n",
    "cv2.destroyAllWindows()"
   ]
  },
  {
   "cell_type": "markdown",
   "metadata": {},
   "source": [
    "# 5. Image Labelling"
   ]
  },
  {
   "cell_type": "code",
   "execution_count": 10,
   "metadata": {},
   "outputs": [
    {
     "name": "stdout",
     "output_type": "stream",
     "text": [
      "Requirement already satisfied: pyqt5 in c:\\users\\izul\\webcam object detection\\tfodcourse\\tfod\\lib\\site-packages (5.15.9)\n",
      "Requirement already satisfied: lxml in c:\\users\\izul\\webcam object detection\\tfodcourse\\tfod\\lib\\site-packages (4.9.3)\n",
      "Requirement already satisfied: PyQt5-sip<13,>=12.11 in c:\\users\\izul\\webcam object detection\\tfodcourse\\tfod\\lib\\site-packages (from pyqt5) (12.12.2)\n",
      "Requirement already satisfied: PyQt5-Qt5>=5.15.2 in c:\\users\\izul\\webcam object detection\\tfodcourse\\tfod\\lib\\site-packages (from pyqt5) (5.15.2)\n"
     ]
    },
    {
     "name": "stderr",
     "output_type": "stream",
     "text": [
      "DEPRECATION: Loading egg at c:\\users\\izul\\webcam object detection\\tfodcourse\\tfod\\lib\\site-packages\\apache_beam-2.50.0-py3.11-win-amd64.egg is deprecated. pip 23.3 will enforce this behaviour change. A possible replacement is to use pip for package installation..\n",
      "DEPRECATION: Loading egg at c:\\users\\izul\\webcam object detection\\tfodcourse\\tfod\\lib\\site-packages\\avro_python3-1.10.2-py3.11.egg is deprecated. pip 23.3 will enforce this behaviour change. A possible replacement is to use pip for package installation..\n",
      "DEPRECATION: Loading egg at c:\\users\\izul\\webcam object detection\\tfodcourse\\tfod\\lib\\site-packages\\contextlib2-21.6.0-py3.11.egg is deprecated. pip 23.3 will enforce this behaviour change. A possible replacement is to use pip for package installation..\n",
      "DEPRECATION: Loading egg at c:\\users\\izul\\webcam object detection\\tfodcourse\\tfod\\lib\\site-packages\\cython-3.0.2-py3.11-win-amd64.egg is deprecated. pip 23.3 will enforce this behaviour change. A possible replacement is to use pip for package installation..\n",
      "DEPRECATION: Loading egg at c:\\users\\izul\\webcam object detection\\tfodcourse\\tfod\\lib\\site-packages\\lvis-0.5.3-py3.11.egg is deprecated. pip 23.3 will enforce this behaviour change. A possible replacement is to use pip for package installation..\n",
      "DEPRECATION: Loading egg at c:\\users\\izul\\webcam object detection\\tfodcourse\\tfod\\lib\\site-packages\\object_detection-0.1-py3.11.egg is deprecated. pip 23.3 will enforce this behaviour change. A possible replacement is to use pip for package installation..\n",
      "DEPRECATION: Loading egg at c:\\users\\izul\\webcam object detection\\tfodcourse\\tfod\\lib\\site-packages\\pandas-2.1.0-py3.11-win-amd64.egg is deprecated. pip 23.3 will enforce this behaviour change. A possible replacement is to use pip for package installation..\n",
      "DEPRECATION: Loading egg at c:\\users\\izul\\webcam object detection\\tfodcourse\\tfod\\lib\\site-packages\\pillow-10.0.0-py3.11-win-amd64.egg is deprecated. pip 23.3 will enforce this behaviour change. A possible replacement is to use pip for package installation..\n",
      "DEPRECATION: Loading egg at c:\\users\\izul\\webcam object detection\\tfodcourse\\tfod\\lib\\site-packages\\portalocker-2.7.0-py3.11.egg is deprecated. pip 23.3 will enforce this behaviour change. A possible replacement is to use pip for package installation..\n",
      "DEPRECATION: Loading egg at c:\\users\\izul\\webcam object detection\\tfodcourse\\tfod\\lib\\site-packages\\pycocotools-2.0.7-py3.11-win-amd64.egg is deprecated. pip 23.3 will enforce this behaviour change. A possible replacement is to use pip for package installation..\n",
      "DEPRECATION: Loading egg at c:\\users\\izul\\webcam object detection\\tfodcourse\\tfod\\lib\\site-packages\\pyparsing-2.4.7-py3.11.egg is deprecated. pip 23.3 will enforce this behaviour change. A possible replacement is to use pip for package installation..\n",
      "DEPRECATION: Loading egg at c:\\users\\izul\\webcam object detection\\tfodcourse\\tfod\\lib\\site-packages\\regex-2023.8.8-py3.11-win-amd64.egg is deprecated. pip 23.3 will enforce this behaviour change. A possible replacement is to use pip for package installation..\n",
      "DEPRECATION: Loading egg at c:\\users\\izul\\webcam object detection\\tfodcourse\\tfod\\lib\\site-packages\\sacrebleu-2.2.0-py3.11.egg is deprecated. pip 23.3 will enforce this behaviour change. A possible replacement is to use pip for package installation..\n",
      "DEPRECATION: Loading egg at c:\\users\\izul\\webcam object detection\\tfodcourse\\tfod\\lib\\site-packages\\scipy-1.11.2-py3.11-win-amd64.egg is deprecated. pip 23.3 will enforce this behaviour change. A possible replacement is to use pip for package installation..\n",
      "DEPRECATION: Loading egg at c:\\users\\izul\\webcam object detection\\tfodcourse\\tfod\\lib\\site-packages\\tabulate-0.9.0-py3.11.egg is deprecated. pip 23.3 will enforce this behaviour change. A possible replacement is to use pip for package installation..\n",
      "DEPRECATION: Loading egg at c:\\users\\izul\\webcam object detection\\tfodcourse\\tfod\\lib\\site-packages\\tensorflow-2.13.0-py3.11-win-amd64.egg is deprecated. pip 23.3 will enforce this behaviour change. A possible replacement is to use pip for package installation..\n",
      "DEPRECATION: Loading egg at c:\\users\\izul\\webcam object detection\\tfodcourse\\tfod\\lib\\site-packages\\tensorflow_io-0.31.0-py3.11-win-amd64.egg is deprecated. pip 23.3 will enforce this behaviour change. A possible replacement is to use pip for package installation..\n",
      "DEPRECATION: Loading egg at c:\\users\\izul\\webcam object detection\\tfodcourse\\tfod\\lib\\site-packages\\tensorflow_io_gcs_filesystem-0.31.0-py3.11-win-amd64.egg is deprecated. pip 23.3 will enforce this behaviour change. A possible replacement is to use pip for package installation..\n",
      "DEPRECATION: Loading egg at c:\\users\\izul\\webcam object detection\\tfodcourse\\tfod\\lib\\site-packages\\tf_models_official-2.13.1-py3.11.egg is deprecated. pip 23.3 will enforce this behaviour change. A possible replacement is to use pip for package installation..\n",
      "DEPRECATION: Loading egg at c:\\users\\izul\\webcam object detection\\tfodcourse\\tfod\\lib\\site-packages\\tf_slim-1.1.0-py3.11.egg is deprecated. pip 23.3 will enforce this behaviour change. A possible replacement is to use pip for package installation..\n"
     ]
    }
   ],
   "source": [
    "!pip install --upgrade pyqt5 lxml"
   ]
  },
  {
   "cell_type": "code",
   "execution_count": 11,
   "metadata": {},
   "outputs": [
    {
     "name": "stdout",
     "output_type": "stream",
     "text": [
      "Package                      Version      Editable project location\n",
      "---------------------------- ------------ --------------------------------------------------------------------------------\n",
      "absl-py                      1.4.0\n",
      "anyio                        4.0.0\n",
      "apache-beam                  2.50.0\n",
      "apache-beam                  2.50.0\n",
      "argon2-cffi                  23.1.0\n",
      "argon2-cffi-bindings         21.2.0\n",
      "arrow                        1.2.3\n",
      "asttokens                    2.4.0\n",
      "astunparse                   1.6.3\n",
      "async-lru                    2.0.4\n",
      "attrs                        23.1.0\n",
      "avro-python3                 1.10.2\n",
      "avro-python3                 1.10.2\n",
      "avro-python3                 1.10.2\n",
      "Babel                        2.12.1\n",
      "backcall                     0.2.0\n",
      "beautifulsoup4               4.12.2\n",
      "bleach                       6.0.0\n",
      "cachetools                   5.3.1\n",
      "certifi                      2023.7.22\n",
      "cffi                         1.15.1\n",
      "charset-normalizer           3.2.0\n",
      "colorama                     0.4.6\n",
      "comm                         0.1.4\n",
      "contextlib2                  21.6.0\n",
      "contextlib2                  21.6.0\n",
      "Cython                       3.0.2\n",
      "Cython                       3.0.2\n",
      "debugpy                      1.6.7.post1\n",
      "decorator                    5.1.1\n",
      "defusedxml                   0.7.1\n",
      "executing                    1.2.0\n",
      "fastjsonschema               2.18.0\n",
      "flatbuffers                  23.5.26\n",
      "fqdn                         1.5.1\n",
      "gast                         0.4.0\n",
      "google-auth                  2.22.0\n",
      "google-auth-oauthlib         1.0.0\n",
      "google-pasta                 0.2.0\n",
      "grpcio                       1.58.0\n",
      "h5py                         3.9.0\n",
      "idna                         3.4\n",
      "ipykernel                    6.25.2\n",
      "ipython                      8.15.0\n",
      "isoduration                  20.11.0\n",
      "jedi                         0.19.0\n",
      "Jinja2                       3.1.2\n",
      "json5                        0.9.14\n",
      "jsonpointer                  2.4\n",
      "jsonschema                   4.19.0\n",
      "jsonschema-specifications    2023.7.1\n",
      "jupyter_client               8.3.1\n",
      "jupyter_core                 5.3.1\n",
      "jupyter-events               0.7.0\n",
      "jupyter-lsp                  2.2.0\n",
      "jupyter_server               2.7.3\n",
      "jupyter_server_terminals     0.4.4\n",
      "jupyterlab                   4.0.5\n",
      "jupyterlab-pygments          0.2.2\n",
      "jupyterlab_server            2.24.0\n",
      "keras                        2.13.1\n",
      "libclang                     16.0.6\n",
      "lvis                         0.5.3\n",
      "lvis                         0.5.3\n",
      "lxml                         4.9.3\n",
      "Markdown                     3.4.4\n",
      "MarkupSafe                   2.1.3\n",
      "matplotlib-inline            0.1.6\n",
      "mistune                      3.0.1\n",
      "nbclient                     0.7.4\n",
      "nbconvert                    7.8.0\n",
      "nbformat                     5.9.2\n",
      "nest-asyncio                 1.5.7\n",
      "notebook                     7.0.3\n",
      "notebook_shim                0.2.3\n",
      "numpy                        1.24.3\n",
      "oauthlib                     3.2.2\n",
      "object-detection             0.1\n",
      "object-detection             0.1\n",
      "opencv-python                4.8.0.76\n",
      "opt-einsum                   3.3.0\n",
      "overrides                    7.4.0\n",
      "packaging                    23.1\n",
      "pandas                       2.1.0\n",
      "pandas                       2.1.0\n",
      "pandocfilters                1.5.0\n",
      "parso                        0.8.3\n",
      "pickleshare                  0.7.5\n",
      "Pillow                       10.0.0\n",
      "Pillow                       10.0.0\n",
      "pip                          23.2.1\n",
      "platformdirs                 3.10.0\n",
      "portalocker                  2.7.0\n",
      "portalocker                  2.7.0\n",
      "prometheus-client            0.17.1\n",
      "prompt-toolkit               3.0.39\n",
      "psutil                       5.9.5\n",
      "pure-eval                    0.2.2\n",
      "pyasn1                       0.5.0\n",
      "pyasn1-modules               0.3.0\n",
      "pycocotools                  2.0.7\n",
      "pycocotools                  2.0.7\n",
      "pycparser                    2.21\n",
      "Pygments                     2.16.1\n",
      "pyparsing                    2.4.7\n",
      "pyparsing                    2.4.7\n",
      "PyQt5                        5.15.9\n",
      "PyQt5-Qt5                    5.15.2\n",
      "PyQt5-sip                    12.12.2\n",
      "python-dateutil              2.8.2\n",
      "python-json-logger           2.0.7\n",
      "pytz                         2023.3.post1\n",
      "pywin32                      306\n",
      "pywinpty                     2.0.11\n",
      "pyzmq                        25.1.1\n",
      "referencing                  0.30.2\n",
      "regex                        2023.8.8\n",
      "regex                        2023.8.8\n",
      "requests                     2.31.0\n",
      "requests-oauthlib            1.3.1\n",
      "rfc3339-validator            0.1.4\n",
      "rfc3986-validator            0.1.1\n",
      "rpds-py                      0.10.2\n",
      "rsa                          4.9\n",
      "sacrebleu                    2.2.0\n",
      "sacrebleu                    2.2.0\n",
      "scipy                        1.11.2\n",
      "scipy                        1.11.2\n",
      "Send2Trash                   1.8.2\n",
      "setuptools                   65.5.0\n",
      "six                          1.16.0\n",
      "slim                         0.1          C:\\Users\\Izul\\Webcam Object Detection\\TFODCourse\\Tensorflow\\models\\research\\slim\n",
      "sniffio                      1.3.0\n",
      "soupsieve                    2.5\n",
      "stack-data                   0.6.2\n",
      "tabulate                     0.9.0\n",
      "tabulate                     0.9.0\n",
      "tensorboard                  2.13.0\n",
      "tensorboard-data-server      0.7.1\n",
      "tensorflow                   2.13.0\n",
      "tensorflow                   2.13.0\n",
      "tensorflow-estimator         2.13.0\n",
      "tensorflow-intel             2.13.0\n",
      "tensorflow-io                0.31.0\n",
      "tensorflow-io                0.31.0\n",
      "tensorflow-io-gcs-filesystem 0.31.0\n",
      "tensorflow-io-gcs-filesystem 0.31.0\n",
      "termcolor                    2.3.0\n",
      "terminado                    0.17.1\n",
      "tf-models-official           2.13.1\n",
      "tf-models-official           2.13.1\n",
      "tf-slim                      1.1.0\n",
      "tf-slim                      1.1.0\n",
      "tinycss2                     1.2.1\n",
      "tornado                      6.3.3\n",
      "traitlets                    5.9.0\n",
      "typing_extensions            4.5.0\n",
      "uri-template                 1.3.0\n",
      "urllib3                      1.26.16\n",
      "voila                        0.5.2\n",
      "wcwidth                      0.2.6\n",
      "webcolors                    1.13\n",
      "webencodings                 0.5.1\n",
      "websocket-client             1.6.2\n",
      "websockets                   11.0.3\n",
      "Werkzeug                     2.3.7\n",
      "wget                         3.2\n",
      "wheel                        0.41.2\n",
      "wrapt                        1.15.0\n"
     ]
    },
    {
     "name": "stderr",
     "output_type": "stream",
     "text": [
      "DEPRECATION: Loading egg at c:\\users\\izul\\webcam object detection\\tfodcourse\\tfod\\lib\\site-packages\\apache_beam-2.50.0-py3.11-win-amd64.egg is deprecated. pip 23.3 will enforce this behaviour change. A possible replacement is to use pip for package installation..\n",
      "DEPRECATION: Loading egg at c:\\users\\izul\\webcam object detection\\tfodcourse\\tfod\\lib\\site-packages\\avro_python3-1.10.2-py3.11.egg is deprecated. pip 23.3 will enforce this behaviour change. A possible replacement is to use pip for package installation..\n",
      "DEPRECATION: Loading egg at c:\\users\\izul\\webcam object detection\\tfodcourse\\tfod\\lib\\site-packages\\contextlib2-21.6.0-py3.11.egg is deprecated. pip 23.3 will enforce this behaviour change. A possible replacement is to use pip for package installation..\n",
      "DEPRECATION: Loading egg at c:\\users\\izul\\webcam object detection\\tfodcourse\\tfod\\lib\\site-packages\\cython-3.0.2-py3.11-win-amd64.egg is deprecated. pip 23.3 will enforce this behaviour change. A possible replacement is to use pip for package installation..\n",
      "DEPRECATION: Loading egg at c:\\users\\izul\\webcam object detection\\tfodcourse\\tfod\\lib\\site-packages\\lvis-0.5.3-py3.11.egg is deprecated. pip 23.3 will enforce this behaviour change. A possible replacement is to use pip for package installation..\n",
      "DEPRECATION: Loading egg at c:\\users\\izul\\webcam object detection\\tfodcourse\\tfod\\lib\\site-packages\\object_detection-0.1-py3.11.egg is deprecated. pip 23.3 will enforce this behaviour change. A possible replacement is to use pip for package installation..\n",
      "DEPRECATION: Loading egg at c:\\users\\izul\\webcam object detection\\tfodcourse\\tfod\\lib\\site-packages\\pandas-2.1.0-py3.11-win-amd64.egg is deprecated. pip 23.3 will enforce this behaviour change. A possible replacement is to use pip for package installation..\n",
      "DEPRECATION: Loading egg at c:\\users\\izul\\webcam object detection\\tfodcourse\\tfod\\lib\\site-packages\\pillow-10.0.0-py3.11-win-amd64.egg is deprecated. pip 23.3 will enforce this behaviour change. A possible replacement is to use pip for package installation..\n",
      "DEPRECATION: Loading egg at c:\\users\\izul\\webcam object detection\\tfodcourse\\tfod\\lib\\site-packages\\portalocker-2.7.0-py3.11.egg is deprecated. pip 23.3 will enforce this behaviour change. A possible replacement is to use pip for package installation..\n",
      "DEPRECATION: Loading egg at c:\\users\\izul\\webcam object detection\\tfodcourse\\tfod\\lib\\site-packages\\pycocotools-2.0.7-py3.11-win-amd64.egg is deprecated. pip 23.3 will enforce this behaviour change. A possible replacement is to use pip for package installation..\n",
      "DEPRECATION: Loading egg at c:\\users\\izul\\webcam object detection\\tfodcourse\\tfod\\lib\\site-packages\\pyparsing-2.4.7-py3.11.egg is deprecated. pip 23.3 will enforce this behaviour change. A possible replacement is to use pip for package installation..\n",
      "DEPRECATION: Loading egg at c:\\users\\izul\\webcam object detection\\tfodcourse\\tfod\\lib\\site-packages\\regex-2023.8.8-py3.11-win-amd64.egg is deprecated. pip 23.3 will enforce this behaviour change. A possible replacement is to use pip for package installation..\n",
      "DEPRECATION: Loading egg at c:\\users\\izul\\webcam object detection\\tfodcourse\\tfod\\lib\\site-packages\\sacrebleu-2.2.0-py3.11.egg is deprecated. pip 23.3 will enforce this behaviour change. A possible replacement is to use pip for package installation..\n",
      "DEPRECATION: Loading egg at c:\\users\\izul\\webcam object detection\\tfodcourse\\tfod\\lib\\site-packages\\scipy-1.11.2-py3.11-win-amd64.egg is deprecated. pip 23.3 will enforce this behaviour change. A possible replacement is to use pip for package installation..\n",
      "DEPRECATION: Loading egg at c:\\users\\izul\\webcam object detection\\tfodcourse\\tfod\\lib\\site-packages\\tabulate-0.9.0-py3.11.egg is deprecated. pip 23.3 will enforce this behaviour change. A possible replacement is to use pip for package installation..\n",
      "DEPRECATION: Loading egg at c:\\users\\izul\\webcam object detection\\tfodcourse\\tfod\\lib\\site-packages\\tensorflow-2.13.0-py3.11-win-amd64.egg is deprecated. pip 23.3 will enforce this behaviour change. A possible replacement is to use pip for package installation..\n",
      "DEPRECATION: Loading egg at c:\\users\\izul\\webcam object detection\\tfodcourse\\tfod\\lib\\site-packages\\tensorflow_io-0.31.0-py3.11-win-amd64.egg is deprecated. pip 23.3 will enforce this behaviour change. A possible replacement is to use pip for package installation..\n",
      "DEPRECATION: Loading egg at c:\\users\\izul\\webcam object detection\\tfodcourse\\tfod\\lib\\site-packages\\tensorflow_io_gcs_filesystem-0.31.0-py3.11-win-amd64.egg is deprecated. pip 23.3 will enforce this behaviour change. A possible replacement is to use pip for package installation..\n",
      "DEPRECATION: Loading egg at c:\\users\\izul\\webcam object detection\\tfodcourse\\tfod\\lib\\site-packages\\tf_models_official-2.13.1-py3.11.egg is deprecated. pip 23.3 will enforce this behaviour change. A possible replacement is to use pip for package installation..\n",
      "DEPRECATION: Loading egg at c:\\users\\izul\\webcam object detection\\tfodcourse\\tfod\\lib\\site-packages\\tf_slim-1.1.0-py3.11.egg is deprecated. pip 23.3 will enforce this behaviour change. A possible replacement is to use pip for package installation..\n"
     ]
    }
   ],
   "source": [
    "!pip list"
   ]
  },
  {
   "cell_type": "code",
   "execution_count": 12,
   "metadata": {},
   "outputs": [],
   "source": [
    "LABELIMG_PATH = os.path.join('Tensorflow', 'labelimg')"
   ]
  },
  {
   "cell_type": "code",
   "execution_count": 13,
   "metadata": {},
   "outputs": [],
   "source": [
    "if not os.path.exists(LABELIMG_PATH):\n",
    "    !mkdir {LABELIMG_PATH}\n",
    "    !git clone https://github.com/tzutalin/labelImg {LABELIMG_PATH}"
   ]
  },
  {
   "cell_type": "code",
   "execution_count": 14,
   "metadata": {},
   "outputs": [],
   "source": [
    "if os.name == 'posix':\n",
    "    !cd {LABELIMG_PATH} && make qt5py3\n",
    "if os.name =='nt':\n",
    "    !cd {LABELIMG_PATH} && pyrcc5 -o libs/resources.py resources.qrc"
   ]
  },
  {
   "cell_type": "code",
   "execution_count": 15,
   "metadata": {},
   "outputs": [],
   "source": [
    "!cd {LABELIMG_PATH} && python labelImg.py"
   ]
  },
  {
   "cell_type": "markdown",
   "metadata": {},
   "source": [
    "# 6. Move them into a Training and Testing Partition"
   ]
  },
  {
   "cell_type": "markdown",
   "metadata": {},
   "source": [
    "# OPTIONAL - 7. Compress them for Colab Training"
   ]
  },
  {
   "cell_type": "code",
   "execution_count": 16,
   "metadata": {},
   "outputs": [],
   "source": [
    "TRAIN_PATH = os.path.join('Tensorflow', 'workspace', 'images', 'train')\n",
    "TEST_PATH = os.path.join('Tensorflow', 'workspace', 'images', 'test')\n",
    "ARCHIVE_PATH = os.path.join('Tensorflow', 'workspace', 'images', 'archive.tar.gz')"
   ]
  },
  {
   "cell_type": "code",
   "execution_count": 17,
   "metadata": {},
   "outputs": [],
   "source": [
    "!tar -czf {ARCHIVE_PATH} {TRAIN_PATH} {TEST_PATH}"
   ]
  },
  {
   "cell_type": "code",
   "execution_count": null,
   "metadata": {},
   "outputs": [],
   "source": []
  }
 ],
 "metadata": {
  "kernelspec": {
   "display_name": "tfod",
   "language": "python",
   "name": "tfod"
  },
  "language_info": {
   "codemirror_mode": {
    "name": "ipython",
    "version": 3
   },
   "file_extension": ".py",
   "mimetype": "text/x-python",
   "name": "python",
   "nbconvert_exporter": "python",
   "pygments_lexer": "ipython3",
   "version": "3.11.5"
  }
 },
 "nbformat": 4,
 "nbformat_minor": 4
}
